{
 "cells": [
  {
   "cell_type": "code",
   "execution_count": 1,
   "metadata": {},
   "outputs": [],
   "source": [
    "from __future__ import print_function, division\n",
    "import os,sys\n",
    "import pandas as pd\n",
    "import numpy as np\n",
    "import torch \n",
    "from torchvision import datasets # load data\n",
    "from torch.autograd import Variable\n",
    "import torch.nn.functional as F # implements forward and backward definitions of an autograd operation\n",
    "from DataLoader import * #load_data(dataset_size, batch_size, high_level_feats), return train_loader, valid_loader, test_loader"
   ]
  },
  {
   "cell_type": "code",
   "execution_count": 2,
   "metadata": {},
   "outputs": [
    {
     "name": "stdout",
     "output_type": "stream",
     "text": [
      "Training on 800 examples\n",
      "Using high-level features only.\n",
      "Validation on 100 examples\n",
      "Using high-level features only.\n",
      "Testing on 100 examples\n",
      "Using high-level features only.\n"
     ]
    }
   ],
   "source": [
    "train_loader, valid_loader, test_loader = load_data(1000, 100, True)"
   ]
  },
  {
   "cell_type": "code",
   "execution_count": null,
   "metadata": {},
   "outputs": [],
   "source": []
  }
 ],
 "metadata": {
  "kernelspec": {
   "display_name": "torch",
   "language": "python",
   "name": "python3"
  },
  "language_info": {
   "codemirror_mode": {
    "name": "ipython",
    "version": 3
   },
   "file_extension": ".py",
   "mimetype": "text/x-python",
   "name": "python",
   "nbconvert_exporter": "python",
   "pygments_lexer": "ipython3",
   "version": "3.9.12"
  },
  "orig_nbformat": 4,
  "vscode": {
   "interpreter": {
    "hash": "9776258cb6398d27f5227b85aed097ba1d94f1dc0f3390982c9d110f6351e5c3"
   }
  }
 },
 "nbformat": 4,
 "nbformat_minor": 2
}
